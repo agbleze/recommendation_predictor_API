{
 "cells": [
  {
   "cell_type": "markdown",
   "id": "ef45ea3e",
   "metadata": {},
   "source": [
    "# Demonstration of how to use the api\n",
    "\n",
    "1. Setup a running instance of the api\n",
    "To get the prediction api running, follow in the instructions on the README page on how to run the package.\n",
    "\n",
    "2. Use the url and endpoint to make prediction request\n",
    "\n",
    "Once you have completed the setup successfully, you are set to make predictions.\n",
    "By default, the api is served at port 8080 hence sanity check to that port number is not in use by another application will help. \n",
    "The prediction endpoint is \"/predict\"\n",
    "\n",
    "Hence your local url when api is running will default to 'http://127.0.0.1:8080/predict'\n",
    "\n",
    "\n",
    "\n",
    "\n"
   ]
  },
  {
   "cell_type": "code",
   "execution_count": null,
   "metadata": {},
   "outputs": [],
   "source": [
    "from reviewoler.utils.helpers import request_prediction\n",
    "\n",
    "\n",
    "\n",
    "review_data = ['its a complete scam', 'such an asshole, I will never buy this product again',\n",
    "                'Just another bad buy', 'It arrrive on time', 'it is a great',\n",
    "                'It arrrive on time and it is a great', ' this is a wonderful product',\n",
    "                ' I hate the product', 'I dont like it. I hate the product',\n",
    "                'I love the product', 'recommend product', 'love it'\n",
    "                ]\n",
    "URL='http://127.0.0.1:8080/predict'\n",
    "\n",
    "result = request_prediction(URL=URL, \n",
    "                            review_data=review_data[0]\n",
    "                            )\n",
    "print(f\"Result: {result}\")"
   ]
  }
 ],
 "metadata": {
  "kernelspec": {
   "display_name": "new_venv",
   "language": "python",
   "name": "python3"
  },
  "language_info": {
   "codemirror_mode": {
    "name": "ipython",
    "version": 3
   },
   "file_extension": ".py",
   "mimetype": "text/x-python",
   "name": "python",
   "nbconvert_exporter": "python",
   "pygments_lexer": "ipython3",
   "version": "3.10.14"
  }
 },
 "nbformat": 4,
 "nbformat_minor": 5
}
